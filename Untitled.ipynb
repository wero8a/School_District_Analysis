{
 "cells": [
  {
   "cell_type": "code",
   "execution_count": 29,
   "id": "09cc2195",
   "metadata": {},
   "outputs": [],
   "source": [
    "import pandas as pd\n",
    "\n",
    "class Cat:\n",
    "    \n",
    "    def __init__(self, name, weight):\n",
    "        \n",
    "        self.name = name\n",
    "        self.weight = weight"
   ]
  },
  {
   "cell_type": "code",
   "execution_count": 30,
   "id": "8804f827",
   "metadata": {},
   "outputs": [
    {
     "name": "stdout",
     "output_type": "stream",
     "text": [
      "Felix 35\n",
      "Garfield, 65 lbs\n"
     ]
    }
   ],
   "source": [
    "first_cat= Cat('Felix', 35)\n",
    "\n",
    "second_cat = Cat('Garfield', 65)\n",
    "\n",
    "print(first_cat.name, first_cat.weight)\n",
    "print(f\"{second_cat.name}, {second_cat.weight} lbs\")"
   ]
  },
  {
   "cell_type": "code",
   "execution_count": 41,
   "id": "95cfc462",
   "metadata": {},
   "outputs": [],
   "source": [
    "class Dog:\n",
    "    \n",
    "    def __init__(self, name, color, sound):\n",
    "        \n",
    "        self.name = name\n",
    "        self.color = color\n",
    "        self.sound = sound\n",
    "        \n",
    "    def Bark(self):\n",
    "            \n",
    "        return self.sound + ' ' + self.sound"
   ]
  },
  {
   "cell_type": "code",
   "execution_count": 43,
   "id": "d25ace33",
   "metadata": {},
   "outputs": [
    {
     "name": "stdout",
     "output_type": "stream",
     "text": [
      "Fido\n",
      "brown\n"
     ]
    },
    {
     "data": {
      "text/plain": [
       "'woof! woof!'"
      ]
     },
     "execution_count": 43,
     "metadata": {},
     "output_type": "execute_result"
    }
   ],
   "source": [
    "first_dog = Dog('Fido','brown', 'woof!')\n",
    "\n",
    "print(first_dog.name)\n",
    "\n",
    "print(first_dog.color)\n",
    "\n",
    "first_dog.Bark()"
   ]
  },
  {
   "cell_type": "code",
   "execution_count": 44,
   "id": "cfe178c2",
   "metadata": {},
   "outputs": [
    {
     "data": {
      "text/plain": [
       "'arf! arf!'"
      ]
     },
     "execution_count": 44,
     "metadata": {},
     "output_type": "execute_result"
    }
   ],
   "source": [
    "second_dog = Dog('Lady','blonde','arf!')\n",
    "\n",
    "second_dog.Bark()"
   ]
  },
  {
   "cell_type": "code",
   "execution_count": null,
   "id": "0ab4f767",
   "metadata": {},
   "outputs": [],
   "source": [
    "# Class pandas"
   ]
  }
 ],
 "metadata": {
  "kernelspec": {
   "display_name": "PythonData",
   "language": "python",
   "name": "pythondata"
  },
  "language_info": {
   "codemirror_mode": {
    "name": "ipython",
    "version": 3
   },
   "file_extension": ".py",
   "mimetype": "text/x-python",
   "name": "python",
   "nbconvert_exporter": "python",
   "pygments_lexer": "ipython3",
   "version": "3.7.13"
  }
 },
 "nbformat": 4,
 "nbformat_minor": 5
}
